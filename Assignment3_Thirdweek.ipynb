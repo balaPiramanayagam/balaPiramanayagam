{
 "cells": [
  {
   "cell_type": "markdown",
   "id": "e09bde99",
   "metadata": {},
   "source": [
    "## Assignment 3"
   ]
  },
  {
   "cell_type": "markdown",
   "id": "2590464a",
   "metadata": {},
   "source": [
    "### 1.\tCreate a file calc.py which has following functions\n",
    "a.\tFunction to find the factorial of a number\n",
    "b.\tFunction to convert degree to Fahrenheit\n",
    "Write a new program in file “maths.py” such that you import functions of the file calc.py to your new program. Use from <module> import <functions> statement to import the functions from the calc module\n",
    "\n",
    "    \n",
    "    ##calc.py code as below\n",
    "    def factorial(x):\n",
    "    if x == 1:\n",
    "        return x\n",
    "    else:\n",
    "        return x * factorial(x - 1)\n",
    "\n",
    "\n",
    "    def celsius_to_fahrenheit(celsius):\n",
    "        cel = float(input(\"Enter temperature in celsius: \"))\n",
    "        fahrenheit = (celsius * 9 / 5) + 32\n",
    "        print('%.2f Celsius is: %0.2f Fahrenheit' % (celsius, fahrenheit))\n",
    "\n",
    "  ###math.py file contains code as below\n",
    "   \n",
    "    from calc import factorial\n",
    "    from calc import celsius_to_fahrenheit\n"
   ]
  },
  {
   "cell_type": "code",
   "execution_count": 11,
   "id": "b77a9660",
   "metadata": {},
   "outputs": [
    {
     "data": {
      "text/plain": [
       "120"
      ]
     },
     "execution_count": 11,
     "metadata": {},
     "output_type": "execute_result"
    }
   ],
   "source": [
    "import math\n",
    "factorial(5)"
   ]
  },
  {
   "cell_type": "code",
   "execution_count": 13,
   "id": "ff3c030f",
   "metadata": {},
   "outputs": [
    {
     "name": "stdout",
     "output_type": "stream",
     "text": [
      "Enter temperature in celsius: 36.6\n",
      "36.60 Celsius is: 97.88 Fahrenheit\n"
     ]
    }
   ],
   "source": [
    "celsius_to_fahrenheit (36.6)"
   ]
  },
  {
   "cell_type": "markdown",
   "id": "e5ae3b4d",
   "metadata": {},
   "source": [
    "### 2.\tImplement a simple generator for Fibonacci series"
   ]
  },
  {
   "cell_type": "code",
   "execution_count": 39,
   "id": "70e3326a",
   "metadata": {},
   "outputs": [],
   "source": [
    "def fib_generator():\n",
    "    \"Generator that yields Fibonacci series\"\n",
    "    x=0\n",
    "    y=1   \n",
    "    for i in range(10):\n",
    "        yield x\n",
    "        x, y = y, x+y\n",
    "        \n",
    "\n",
    "f = fib_generator()"
   ]
  },
  {
   "cell_type": "code",
   "execution_count": 40,
   "id": "9f40ad22",
   "metadata": {},
   "outputs": [
    {
     "name": "stdout",
     "output_type": "stream",
     "text": [
      "0\n",
      "1\n",
      "1\n",
      "2\n",
      "3\n",
      "5\n",
      "8\n",
      "13\n",
      "21\n",
      "34\n"
     ]
    }
   ],
   "source": [
    "print(next(f))\n",
    "print(next(f))\n",
    "print(next(f))\n",
    "print(next(f))\n",
    "print(next(f))\n",
    "print(next(f))\n",
    "print(next(f))\n",
    "print(next(f))\n",
    "print(next(f))\n",
    "print(next(f))"
   ]
  },
  {
   "cell_type": "markdown",
   "id": "766b5de5",
   "metadata": {},
   "source": [
    "### 3.\tWrite an iterator class to iterate over a sequence of values in the reverse direction"
   ]
  },
  {
   "cell_type": "code",
   "execution_count": 41,
   "id": "2e4693d8",
   "metadata": {},
   "outputs": [],
   "source": [
    "def generator1(arg1): \n",
    "    len1 = len(arg1)\n",
    "    for i in range (len1-1, -1, -1):\n",
    "        yield arg1[i]"
   ]
  },
  {
   "cell_type": "code",
   "execution_count": 42,
   "id": "eb6e3e24",
   "metadata": {},
   "outputs": [
    {
     "name": "stdout",
     "output_type": "stream",
     "text": [
      "7\n",
      "3\n",
      "4\n",
      "7\n",
      "5\n",
      "9\n",
      "4\n",
      "7\n",
      "5\n",
      "4\n",
      "9\n",
      "2\n",
      "1\n"
     ]
    }
   ],
   "source": [
    "arg1= '1294574957437'\n",
    "for char in generator1(arg1):\n",
    "    print(char)"
   ]
  },
  {
   "cell_type": "markdown",
   "id": "d2331de4",
   "metadata": {},
   "source": [
    "### 4.\tWrite a function “salary” that takes in base pay, HRA and special allowance as arguments and returns the sum of all the 3 salary elements. Then create a decorator function to add an additional element “Tax” (30% of base pay) and assign it back to base pay variable, and return the function (i.e., the final calculation of salary also includes tax)"
   ]
  },
  {
   "cell_type": "code",
   "execution_count": 138,
   "id": "4c6fa26e",
   "metadata": {},
   "outputs": [],
   "source": [
    "def decorating_funct(func):\n",
    "    def salary(base_pay, hra, sa):\n",
    "        func(base_pay, hra, sa)\n",
    "        print(\"base_pay\", base_pay)\n",
    "        print (\"hra\", hra)\n",
    "        print(\"sa\", sa)\n",
    "        #base_pay+hra+sa\n",
    "        ##print(\"Total Salary\",sal)\n",
    "    return salary"
   ]
  },
  {
   "cell_type": "code",
   "execution_count": 141,
   "id": "7311720e",
   "metadata": {},
   "outputs": [],
   "source": [
    "@decorating_funct #Place the decorating function on top of the function that needs to be decorated\n",
    "def salary_fn(base_pay, hra, sa):\n",
    "    base_pay = base_pay*(0.3)\n",
    "    print(\"Tax+base_pay\",base_pay)\n",
    "    sum = base_pay+hra+sa\n",
    "    print(\"Total Salary\",sum)\n",
    "    return "
   ]
  },
  {
   "cell_type": "code",
   "execution_count": 145,
   "id": "73d55757",
   "metadata": {
    "scrolled": true
   },
   "outputs": [
    {
     "name": "stdout",
     "output_type": "stream",
     "text": [
      "Tax+base_pay 15000.0\n",
      "Total Salary 225000.0\n",
      "base_pay 50000\n",
      "hra 200000\n",
      "sa 10000\n"
     ]
    }
   ],
   "source": [
    "salary_fn(50000,200000,10000)"
   ]
  },
  {
   "cell_type": "markdown",
   "id": "5b473cc7",
   "metadata": {},
   "source": [
    "### 5.\tWrite 3 examples on possible methods to changing a tuple### "
   ]
  },
  {
   "cell_type": "markdown",
   "id": "85ca5426",
   "metadata": {},
   "source": [
    "##### Example 1:- If the tuple contains list changeable"
   ]
  },
  {
   "cell_type": "code",
   "execution_count": 152,
   "id": "dd8514d0",
   "metadata": {},
   "outputs": [
    {
     "data": {
      "text/plain": [
       "(1, 2, 8, 9, 23, 10, [4, 2, 6, 88, 90])"
      ]
     },
     "execution_count": 152,
     "metadata": {},
     "output_type": "execute_result"
    }
   ],
   "source": [
    "tup1 = (1,2,8,9,23,10,[4,5,6,88,90])\n",
    "tup1[6][1]=2\n",
    "tup1"
   ]
  },
  {
   "cell_type": "markdown",
   "id": "1d9b4489",
   "metadata": {},
   "source": [
    "#### Example 2:- If the tuple contains mixed data types"
   ]
  },
  {
   "cell_type": "code",
   "execution_count": 153,
   "id": "2120f835",
   "metadata": {},
   "outputs": [
    {
     "name": "stdout",
     "output_type": "stream",
     "text": [
      "{'Hello', 2.45, 5.4, (2, 5, 8), 78.9, 80, 19, 25, 27, 30}\n"
     ]
    }
   ],
   "source": [
    "my_set1 = {5.4, \"Hello\", 30, 25, 2.45, 78.9,(2,5,8),27,80,19}\n",
    "print(my_set1)"
   ]
  },
  {
   "cell_type": "markdown",
   "id": "b57d6764",
   "metadata": {},
   "source": [
    "#### Example 3: when the tuple subject to discard, it is changeable"
   ]
  },
  {
   "cell_type": "code",
   "execution_count": 156,
   "id": "3a5c5d8c",
   "metadata": {
    "scrolled": true
   },
   "outputs": [
    {
     "name": "stdout",
     "output_type": "stream",
     "text": [
      "{65, 1, 4, 6, 7, 8, 10, 75, 12, 13, 80, 2002, 19, 20, 23, 2012}\n",
      "{65, 1, 4, 6, 7, 8, 10, 12, 13, 80, 2002, 19, 20, 23, 2012}\n"
     ]
    }
   ],
   "source": [
    "my_set = {1,7,75,4,23,19,20,8,2002,2012,10,80,75,12,13,6,65}\n",
    "print(my_set)\n",
    "my_set.discard(75)\n",
    "print(my_set)"
   ]
  },
  {
   "cell_type": "code",
   "execution_count": null,
   "id": "775dfca7",
   "metadata": {},
   "outputs": [],
   "source": []
  }
 ],
 "metadata": {
  "kernelspec": {
   "display_name": "Python 3 (ipykernel)",
   "language": "python",
   "name": "python3"
  },
  "language_info": {
   "codemirror_mode": {
    "name": "ipython",
    "version": 3
   },
   "file_extension": ".py",
   "mimetype": "text/x-python",
   "name": "python",
   "nbconvert_exporter": "python",
   "pygments_lexer": "ipython3",
   "version": "3.9.7"
  }
 },
 "nbformat": 4,
 "nbformat_minor": 5
}
