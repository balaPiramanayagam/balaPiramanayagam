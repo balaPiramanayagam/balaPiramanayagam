{
 "cells": [
  {
   "cell_type": "markdown",
   "id": "5efcaee1",
   "metadata": {},
   "source": [
    "## 1.\tImport the necessary package to\n",
    "a.\tSet the current working directory\n",
    "b.\tChange the working directory\n",
    "   "
   ]
  },
  {
   "cell_type": "code",
   "execution_count": 2,
   "id": "23655ac8",
   "metadata": {},
   "outputs": [],
   "source": [
    "import os"
   ]
  },
  {
   "cell_type": "code",
   "execution_count": 3,
   "id": "2fae6d06",
   "metadata": {},
   "outputs": [
    {
     "data": {
      "text/plain": [
       "'C:\\\\Users\\\\Bala Piramanayagam\\\\Desktop\\\\Anaconda\\\\Inceptez\\\\Notebooks'"
      ]
     },
     "execution_count": 3,
     "metadata": {},
     "output_type": "execute_result"
    }
   ],
   "source": [
    "os.getcwd()"
   ]
  },
  {
   "cell_type": "code",
   "execution_count": 3,
   "id": "a807d46b",
   "metadata": {},
   "outputs": [
    {
     "data": {
      "text/plain": [
       "'C:\\\\Users\\\\Bala Piramanayagam\\\\Desktop\\\\Anaconda\\\\Inceptez\\\\Assignments'"
      ]
     },
     "execution_count": 3,
     "metadata": {},
     "output_type": "execute_result"
    }
   ],
   "source": [
    "os.getcwd()"
   ]
  },
  {
   "cell_type": "markdown",
   "id": "84ad182c",
   "metadata": {},
   "source": [
    "## 2.\tCreate the string, int and float variable and delete them all in the next cell"
   ]
  },
  {
   "cell_type": "code",
   "execution_count": 5,
   "id": "2e895dc7",
   "metadata": {},
   "outputs": [
    {
     "name": "stdout",
     "output_type": "stream",
     "text": [
      "Hello\n",
      "<class 'str'>\n"
     ]
    }
   ],
   "source": [
    "var_STR = 'Hello'\n",
    "print(var_STR)\n",
    "print(type(var_STR))"
   ]
  },
  {
   "cell_type": "code",
   "execution_count": 9,
   "id": "e6d83da8",
   "metadata": {},
   "outputs": [
    {
     "name": "stdout",
     "output_type": "stream",
     "text": [
      "10\n",
      "<class 'int'>\n",
      "10.11\n",
      "<class 'float'>\n"
     ]
    }
   ],
   "source": [
    "x_int = 10\n",
    "y_float = 10.11\n",
    "print(x_int)\n",
    "print(type(x_int))\n",
    "print(y_float)\n",
    "print(type(y_float))"
   ]
  },
  {
   "cell_type": "code",
   "execution_count": 10,
   "id": "1564d015",
   "metadata": {},
   "outputs": [],
   "source": [
    "del var_STR, x_int, y_float"
   ]
  },
  {
   "cell_type": "code",
   "execution_count": 11,
   "id": "49c1cfe3",
   "metadata": {},
   "outputs": [
    {
     "ename": "NameError",
     "evalue": "name 'var_STR' is not defined",
     "output_type": "error",
     "traceback": [
      "\u001b[1;31m---------------------------------------------------------------------------\u001b[0m",
      "\u001b[1;31mNameError\u001b[0m                                 Traceback (most recent call last)",
      "\u001b[1;32mC:\\Users\\BALAPI~1\\AppData\\Local\\Temp/ipykernel_12520/311002783.py\u001b[0m in \u001b[0;36m<module>\u001b[1;34m\u001b[0m\n\u001b[1;32m----> 1\u001b[1;33m \u001b[0mprint\u001b[0m\u001b[1;33m(\u001b[0m\u001b[0mvar_STR\u001b[0m\u001b[1;33m)\u001b[0m\u001b[1;33m\u001b[0m\u001b[1;33m\u001b[0m\u001b[0m\n\u001b[0m\u001b[0;32m      2\u001b[0m \u001b[0mprint\u001b[0m \u001b[1;33m(\u001b[0m\u001b[0mx_int\u001b[0m\u001b[1;33m)\u001b[0m\u001b[1;33m\u001b[0m\u001b[1;33m\u001b[0m\u001b[0m\n\u001b[0;32m      3\u001b[0m \u001b[0mprint\u001b[0m \u001b[1;33m(\u001b[0m\u001b[0my_float\u001b[0m\u001b[1;33m)\u001b[0m\u001b[1;33m\u001b[0m\u001b[1;33m\u001b[0m\u001b[0m\n",
      "\u001b[1;31mNameError\u001b[0m: name 'var_STR' is not defined"
     ]
    }
   ],
   "source": [
    "print(var_STR)"
   ]
  },
  {
   "cell_type": "code",
   "execution_count": 12,
   "id": "a69f7d91",
   "metadata": {},
   "outputs": [
    {
     "ename": "NameError",
     "evalue": "name 'x_int' is not defined",
     "output_type": "error",
     "traceback": [
      "\u001b[1;31m---------------------------------------------------------------------------\u001b[0m",
      "\u001b[1;31mNameError\u001b[0m                                 Traceback (most recent call last)",
      "\u001b[1;32mC:\\Users\\BALAPI~1\\AppData\\Local\\Temp/ipykernel_12520/1354146561.py\u001b[0m in \u001b[0;36m<module>\u001b[1;34m\u001b[0m\n\u001b[1;32m----> 1\u001b[1;33m \u001b[0mprint\u001b[0m \u001b[1;33m(\u001b[0m\u001b[0mx_int\u001b[0m\u001b[1;33m)\u001b[0m\u001b[1;33m\u001b[0m\u001b[1;33m\u001b[0m\u001b[0m\n\u001b[0m",
      "\u001b[1;31mNameError\u001b[0m: name 'x_int' is not defined"
     ]
    }
   ],
   "source": [
    "print (x_int)"
   ]
  },
  {
   "cell_type": "code",
   "execution_count": 13,
   "id": "0ad26800",
   "metadata": {},
   "outputs": [
    {
     "ename": "NameError",
     "evalue": "name 'y_float' is not defined",
     "output_type": "error",
     "traceback": [
      "\u001b[1;31m---------------------------------------------------------------------------\u001b[0m",
      "\u001b[1;31mNameError\u001b[0m                                 Traceback (most recent call last)",
      "\u001b[1;32mC:\\Users\\BALAPI~1\\AppData\\Local\\Temp/ipykernel_12520/2225668922.py\u001b[0m in \u001b[0;36m<module>\u001b[1;34m\u001b[0m\n\u001b[1;32m----> 1\u001b[1;33m \u001b[0mprint\u001b[0m \u001b[1;33m(\u001b[0m\u001b[0my_float\u001b[0m\u001b[1;33m)\u001b[0m\u001b[1;33m\u001b[0m\u001b[1;33m\u001b[0m\u001b[0m\n\u001b[0m",
      "\u001b[1;31mNameError\u001b[0m: name 'y_float' is not defined"
     ]
    }
   ],
   "source": [
    "print (y_float)"
   ]
  },
  {
   "cell_type": "markdown",
   "id": "ccd7088b",
   "metadata": {},
   "source": [
    "## 3.\tWhat’s the result of assigning a value to a ‘keyword’?\n",
    "a.\tPlease highlight the error\n"
   ]
  },
  {
   "cell_type": "code",
   "execution_count": 15,
   "id": "e1308f43",
   "metadata": {},
   "outputs": [
    {
     "name": "stdout",
     "output_type": "stream",
     "text": [
      "10\n"
     ]
    }
   ],
   "source": [
    "keyword = 10\n",
    "print(keyword)"
   ]
  },
  {
   "cell_type": "code",
   "execution_count": 20,
   "id": "eb257ffc",
   "metadata": {},
   "outputs": [],
   "source": [
    "import keyword"
   ]
  },
  {
   "cell_type": "code",
   "execution_count": 19,
   "id": "44cd51b4",
   "metadata": {},
   "outputs": [
    {
     "ename": "AttributeError",
     "evalue": "'int' object has no attribute 'kwlist'",
     "output_type": "error",
     "traceback": [
      "\u001b[1;31m---------------------------------------------------------------------------\u001b[0m",
      "\u001b[1;31mAttributeError\u001b[0m                            Traceback (most recent call last)",
      "\u001b[1;32mC:\\Users\\BALAPI~1\\AppData\\Local\\Temp/ipykernel_12520/2370385973.py\u001b[0m in \u001b[0;36m<module>\u001b[1;34m\u001b[0m\n\u001b[1;32m----> 1\u001b[1;33m \u001b[0mkeyword\u001b[0m\u001b[1;33m.\u001b[0m\u001b[0mkwlist\u001b[0m\u001b[1;33m\u001b[0m\u001b[1;33m\u001b[0m\u001b[0m\n\u001b[0m",
      "\u001b[1;31mAttributeError\u001b[0m: 'int' object has no attribute 'kwlist'"
     ]
    }
   ],
   "source": [
    "keyword.kwlist"
   ]
  },
  {
   "cell_type": "code",
   "execution_count": 21,
   "id": "b8f28b0b",
   "metadata": {},
   "outputs": [],
   "source": [
    "del keyword"
   ]
  },
  {
   "cell_type": "code",
   "execution_count": 26,
   "id": "dd4cc264",
   "metadata": {},
   "outputs": [],
   "source": [
    "import keyword"
   ]
  },
  {
   "cell_type": "code",
   "execution_count": 27,
   "id": "8e8ddd45",
   "metadata": {},
   "outputs": [
    {
     "data": {
      "text/plain": [
       "['False',\n",
       " 'None',\n",
       " 'True',\n",
       " '__peg_parser__',\n",
       " 'and',\n",
       " 'as',\n",
       " 'assert',\n",
       " 'async',\n",
       " 'await',\n",
       " 'break',\n",
       " 'class',\n",
       " 'continue',\n",
       " 'def',\n",
       " 'del',\n",
       " 'elif',\n",
       " 'else',\n",
       " 'except',\n",
       " 'finally',\n",
       " 'for',\n",
       " 'from',\n",
       " 'global',\n",
       " 'if',\n",
       " 'import',\n",
       " 'in',\n",
       " 'is',\n",
       " 'lambda',\n",
       " 'nonlocal',\n",
       " 'not',\n",
       " 'or',\n",
       " 'pass',\n",
       " 'raise',\n",
       " 'return',\n",
       " 'try',\n",
       " 'while',\n",
       " 'with',\n",
       " 'yield']"
      ]
     },
     "execution_count": 27,
     "metadata": {},
     "output_type": "execute_result"
    }
   ],
   "source": [
    "keyword.kwlist"
   ]
  },
  {
   "cell_type": "markdown",
   "id": "fc29d607",
   "metadata": {},
   "source": [
    "## 4.\tHow to write a multi-line statement and assign it to a variable (Note: Without using a backslash “\\” at the end of each line)"
   ]
  },
  {
   "cell_type": "code",
   "execution_count": 28,
   "id": "1f303a95",
   "metadata": {},
   "outputs": [],
   "source": [
    "#Consider Var1 is the variable name (actually acts as a function)\n",
    "def var1():\n",
    "    \"\"\"Multi-line statment assign to a variable without using backslash \"\\\" at the end of each line\"\"\"\n"
   ]
  },
  {
   "cell_type": "code",
   "execution_count": 29,
   "id": "90dffd53",
   "metadata": {},
   "outputs": [
    {
     "name": "stdout",
     "output_type": "stream",
     "text": [
      "Multi-line statment assign to a variable without using backslash \"\" at the end of each line\n"
     ]
    }
   ],
   "source": [
    "print(var1.__doc__)\n"
   ]
  },
  {
   "cell_type": "markdown",
   "id": "86d1d302",
   "metadata": {},
   "source": [
    "## 5.\tPrint the list of numbers from 100 to 999 with an interval (step size) of 8 between the numbers"
   ]
  },
  {
   "cell_type": "code",
   "execution_count": 30,
   "id": "99ea1328",
   "metadata": {},
   "outputs": [
    {
     "name": "stdout",
     "output_type": "stream",
     "text": [
      "100\n",
      "108\n",
      "116\n",
      "124\n",
      "132\n",
      "140\n",
      "148\n",
      "156\n",
      "164\n",
      "172\n",
      "180\n",
      "188\n",
      "196\n",
      "204\n",
      "212\n",
      "220\n",
      "228\n",
      "236\n",
      "244\n",
      "252\n",
      "260\n",
      "268\n",
      "276\n",
      "284\n",
      "292\n",
      "300\n",
      "308\n",
      "316\n",
      "324\n",
      "332\n",
      "340\n",
      "348\n",
      "356\n",
      "364\n",
      "372\n",
      "380\n",
      "388\n",
      "396\n",
      "404\n",
      "412\n",
      "420\n",
      "428\n",
      "436\n",
      "444\n",
      "452\n",
      "460\n",
      "468\n",
      "476\n",
      "484\n",
      "492\n",
      "500\n",
      "508\n",
      "516\n",
      "524\n",
      "532\n",
      "540\n",
      "548\n",
      "556\n",
      "564\n",
      "572\n",
      "580\n",
      "588\n",
      "596\n",
      "604\n",
      "612\n",
      "620\n",
      "628\n",
      "636\n",
      "644\n",
      "652\n",
      "660\n",
      "668\n",
      "676\n",
      "684\n",
      "692\n",
      "700\n",
      "708\n",
      "716\n",
      "724\n",
      "732\n",
      "740\n",
      "748\n",
      "756\n",
      "764\n",
      "772\n",
      "780\n",
      "788\n",
      "796\n",
      "804\n",
      "812\n",
      "820\n",
      "828\n",
      "836\n",
      "844\n",
      "852\n",
      "860\n",
      "868\n",
      "876\n",
      "884\n",
      "892\n",
      "900\n",
      "908\n",
      "916\n",
      "924\n",
      "932\n",
      "940\n",
      "948\n",
      "956\n",
      "964\n",
      "972\n",
      "980\n",
      "988\n",
      "996\n"
     ]
    }
   ],
   "source": [
    "step = 8\n",
    "p = 999\n",
    "for i in range(100,p,step):\n",
    "    print (i)"
   ]
  },
  {
   "cell_type": "markdown",
   "id": "83d85542",
   "metadata": {},
   "source": [
    "## 6.\tWrite a “for” loop to print out the ‘n’ values and break out of the statement if the value is ‘n/2’"
   ]
  },
  {
   "cell_type": "code",
   "execution_count": 31,
   "id": "8ae17cd3",
   "metadata": {},
   "outputs": [
    {
     "name": "stdout",
     "output_type": "stream",
     "text": [
      "Out of loop\n"
     ]
    }
   ],
   "source": [
    "n = 0\n",
    "\n",
    "for n in range(10):\n",
    "    if n == n/2:\n",
    "        break    # break here\n",
    "\n",
    "    print('Number is ' + str(n))\n",
    "\n",
    "print('Out of loop')\n"
   ]
  },
  {
   "cell_type": "code",
   "execution_count": 37,
   "id": "3d3c08d9",
   "metadata": {
    "scrolled": true
   },
   "outputs": [
    {
     "name": "stdout",
     "output_type": "stream",
     "text": [
      "Number is 0\n",
      "Break here\n",
      "Out of loop\n"
     ]
    }
   ],
   "source": [
    "\n",
    "\n",
    "for num in range(10):\n",
    "    print('Number is ' + str(num))\n",
    "    if num == num/2:\n",
    "        print('Break here')\n",
    "        break    # break here\n",
    "\n",
    "print('Out of loop')"
   ]
  },
  {
   "cell_type": "markdown",
   "id": "71c83acd",
   "metadata": {},
   "source": [
    "## 7.\tWrite a simple function and call the docstring from outside the function"
   ]
  },
  {
   "cell_type": "code",
   "execution_count": 39,
   "id": "ebc9d65e",
   "metadata": {},
   "outputs": [],
   "source": [
    "#function1 is function name\n",
    "def function1():\n",
    "    \"\"\"This is a simple function, call the docstrint from outside the function\"\"\"\n",
    "    print (\"Assignment number 7\")\n",
    "    \n"
   ]
  },
  {
   "cell_type": "code",
   "execution_count": 40,
   "id": "6170f4a9",
   "metadata": {},
   "outputs": [
    {
     "name": "stdout",
     "output_type": "stream",
     "text": [
      "This is a simple function, call the docstrint from outside the function\n"
     ]
    }
   ],
   "source": [
    "print(function1.__doc__)"
   ]
  },
  {
   "cell_type": "markdown",
   "id": "8bf0f8bb",
   "metadata": {},
   "source": [
    "## 8.\tCreate a user-defined package in ‘site-packages’ with below 3 variables a, b and c. \n",
    "Import these variables and write a function to calculate the area of triangle for below 3 sides (a, b, c). Calculate the semi-perimeter (s) first, to calculate the area of triangle (area) at last\n",
    "<< Formula to calculate semi-perimeter: s = (a+b+c )/2\n",
    "<< Formula to calculate area = (s*(s-a) * (s-b) * (s-c)) ** 0.5 >>\n",
    "a.\t15\n",
    "b.\t51\n",
    "c.\t17\n"
   ]
  },
  {
   "cell_type": "code",
   "execution_count": 13,
   "id": "e4d9ab23",
   "metadata": {},
   "outputs": [
    {
     "name": "stdout",
     "output_type": "stream",
     "text": [
      "15\n",
      "51\n",
      "17\n"
     ]
    }
   ],
   "source": [
    "from Calculation import calc1\n",
    "print(calc1.a)\n",
    "print (calc1.b)\n",
    "print (calc1.c)\n",
    "a1 = calc1.a\n",
    "b1=calc1.b\n",
    "c1=calc1.c"
   ]
  },
  {
   "cell_type": "code",
   "execution_count": 19,
   "id": "6eee5c3a",
   "metadata": {
    "scrolled": true
   },
   "outputs": [
    {
     "name": "stdout",
     "output_type": "stream",
     "text": [
      "41.5\n"
     ]
    }
   ],
   "source": [
    "s=(a1+b1+c1 )/2\n",
    "print(s)"
   ]
  },
  {
   "cell_type": "code",
   "execution_count": 22,
   "id": "a7b23c50",
   "metadata": {},
   "outputs": [
    {
     "data": {
      "text/plain": [
       "float"
      ]
     },
     "execution_count": 22,
     "metadata": {},
     "output_type": "execute_result"
    }
   ],
   "source": [
    "type(s)\n"
   ]
  },
  {
   "cell_type": "code",
   "execution_count": 23,
   "id": "c3e62c26",
   "metadata": {
    "scrolled": true
   },
   "outputs": [
    {
     "name": "stdout",
     "output_type": "stream",
     "text": [
      "-127983.40625\n"
     ]
    }
   ],
   "source": [
    "area = (s*(s-a1)*(s-b1)*(s-c1))*0.5\n",
    "print(area)"
   ]
  },
  {
   "cell_type": "markdown",
   "id": "55364433",
   "metadata": {},
   "source": [
    "## 9.\tWrite a list comprehension to print the odd numbers from 0 to 100"
   ]
  },
  {
   "cell_type": "code",
   "execution_count": 34,
   "id": "f400614c",
   "metadata": {
    "scrolled": true
   },
   "outputs": [
    {
     "data": {
      "text/plain": [
       "[1,\n",
       " 3,\n",
       " 5,\n",
       " 7,\n",
       " 9,\n",
       " 11,\n",
       " 13,\n",
       " 15,\n",
       " 17,\n",
       " 19,\n",
       " 21,\n",
       " 23,\n",
       " 25,\n",
       " 27,\n",
       " 29,\n",
       " 31,\n",
       " 33,\n",
       " 35,\n",
       " 37,\n",
       " 39,\n",
       " 41,\n",
       " 43,\n",
       " 45,\n",
       " 47,\n",
       " 49,\n",
       " 51,\n",
       " 53,\n",
       " 55,\n",
       " 57,\n",
       " 59,\n",
       " 61,\n",
       " 63,\n",
       " 65,\n",
       " 67,\n",
       " 69,\n",
       " 71,\n",
       " 73,\n",
       " 75,\n",
       " 77,\n",
       " 79,\n",
       " 81,\n",
       " 83,\n",
       " 85,\n",
       " 87,\n",
       " 89,\n",
       " 91,\n",
       " 93,\n",
       " 95,\n",
       " 97,\n",
       " 99]"
      ]
     },
     "execution_count": 34,
     "metadata": {},
     "output_type": "execute_result"
    }
   ],
   "source": [
    "list2 = list(range(101))\n",
    "[a for a in list2 if a%2 != 0]"
   ]
  },
  {
   "cell_type": "markdown",
   "id": "111b5730",
   "metadata": {},
   "source": [
    "## 10.\t Create a variable (ex: name) and store your full name in it. Then write a list comprehension to print your name excluding vowels (a, e, i, o, u)"
   ]
  },
  {
   "cell_type": "code",
   "execution_count": 59,
   "id": "a7df8c63",
   "metadata": {},
   "outputs": [
    {
     "name": "stdout",
     "output_type": "stream",
     "text": [
      "Name after removing vowels:  Bl\n"
     ]
    }
   ],
   "source": [
    "name = 'Bala'\n",
    "vowels = ['a', 'e', 'i', 'o', 'u']\n",
    "output = ''\n",
    "length = len(name)\n",
    "for i in range (length):\n",
    "    if name[i] not in vowels:\n",
    "      output = output + name[i]\n",
    "        \n",
    "print (\"Name after removing vowels: \", output)\n"
   ]
  }
 ],
 "metadata": {
  "kernelspec": {
   "display_name": "Python 3 (ipykernel)",
   "language": "python",
   "name": "python3"
  },
  "language_info": {
   "codemirror_mode": {
    "name": "ipython",
    "version": 3
   },
   "file_extension": ".py",
   "mimetype": "text/x-python",
   "name": "python",
   "nbconvert_exporter": "python",
   "pygments_lexer": "ipython3",
   "version": "3.9.7"
  }
 },
 "nbformat": 4,
 "nbformat_minor": 5
}
