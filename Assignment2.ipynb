{
 "cells": [
  {
   "cell_type": "markdown",
   "id": "102c150c",
   "metadata": {},
   "source": [
    "# Assignment 2: Bala Piramanayagam Feb 12-13"
   ]
  },
  {
   "cell_type": "markdown",
   "id": "51a72295",
   "metadata": {},
   "source": [
    "## 1.\tGet the input for 2 variables though “input” function and pass them to a function to return the addition of two variables"
   ]
  },
  {
   "cell_type": "code",
   "execution_count": 1,
   "id": "f98bcbb2",
   "metadata": {},
   "outputs": [],
   "source": [
    "def add_num(a,b):#function for addition\n",
    "    sum=a+b;\n",
    "    return sum; #return value\n"
   ]
  },
  {
   "cell_type": "code",
   "execution_count": 2,
   "id": "133cf5b9",
   "metadata": {},
   "outputs": [
    {
     "data": {
      "text/plain": [
       "25"
      ]
     },
     "execution_count": 2,
     "metadata": {},
     "output_type": "execute_result"
    }
   ],
   "source": [
    "add_num(10,15)"
   ]
  },
  {
   "cell_type": "markdown",
   "id": "478226c9",
   "metadata": {},
   "source": [
    "## 2.\tWhat happens if we try to add an int with str and vice versa. Please print out the error"
   ]
  },
  {
   "cell_type": "code",
   "execution_count": 3,
   "id": "43eebcc7",
   "metadata": {},
   "outputs": [
    {
     "ename": "TypeError",
     "evalue": "can only concatenate str (not \"int\") to str",
     "output_type": "error",
     "traceback": [
      "\u001b[1;31m---------------------------------------------------------------------------\u001b[0m",
      "\u001b[1;31mTypeError\u001b[0m                                 Traceback (most recent call last)",
      "\u001b[1;32mC:\\Users\\BALAPI~1\\AppData\\Local\\Temp/ipykernel_3328/494886063.py\u001b[0m in \u001b[0;36m<module>\u001b[1;34m\u001b[0m\n\u001b[0;32m      1\u001b[0m \u001b[0ma\u001b[0m \u001b[1;33m=\u001b[0m \u001b[1;36m10\u001b[0m\u001b[1;33m\u001b[0m\u001b[1;33m\u001b[0m\u001b[0m\n\u001b[0;32m      2\u001b[0m \u001b[0ms\u001b[0m \u001b[1;33m=\u001b[0m \u001b[1;34m'name'\u001b[0m\u001b[1;33m\u001b[0m\u001b[1;33m\u001b[0m\u001b[0m\n\u001b[1;32m----> 3\u001b[1;33m \u001b[0msa\u001b[0m \u001b[1;33m=\u001b[0m \u001b[0ms\u001b[0m\u001b[1;33m+\u001b[0m\u001b[0ma\u001b[0m\u001b[1;33m\u001b[0m\u001b[1;33m\u001b[0m\u001b[0m\n\u001b[0m",
      "\u001b[1;31mTypeError\u001b[0m: can only concatenate str (not \"int\") to str"
     ]
    }
   ],
   "source": [
    "a = 10\n",
    "s = 'name'\n",
    "sa = s+a"
   ]
  },
  {
   "cell_type": "code",
   "execution_count": 4,
   "id": "8ab1c316",
   "metadata": {},
   "outputs": [
    {
     "ename": "TypeError",
     "evalue": "unsupported operand type(s) for +: 'int' and 'str'",
     "output_type": "error",
     "traceback": [
      "\u001b[1;31m---------------------------------------------------------------------------\u001b[0m",
      "\u001b[1;31mTypeError\u001b[0m                                 Traceback (most recent call last)",
      "\u001b[1;32mC:\\Users\\BALAPI~1\\AppData\\Local\\Temp/ipykernel_3328/1445368483.py\u001b[0m in \u001b[0;36m<module>\u001b[1;34m\u001b[0m\n\u001b[0;32m      1\u001b[0m \u001b[0mab\u001b[0m \u001b[1;33m=\u001b[0m \u001b[1;34m'string1'\u001b[0m\u001b[1;33m\u001b[0m\u001b[1;33m\u001b[0m\u001b[0m\n\u001b[0;32m      2\u001b[0m \u001b[0mn\u001b[0m  \u001b[1;33m=\u001b[0m \u001b[1;36m12\u001b[0m\u001b[1;33m\u001b[0m\u001b[1;33m\u001b[0m\u001b[0m\n\u001b[1;32m----> 3\u001b[1;33m \u001b[0mabn\u001b[0m \u001b[1;33m=\u001b[0m \u001b[0mn\u001b[0m \u001b[1;33m+\u001b[0m \u001b[0mab\u001b[0m\u001b[1;33m\u001b[0m\u001b[1;33m\u001b[0m\u001b[0m\n\u001b[0m",
      "\u001b[1;31mTypeError\u001b[0m: unsupported operand type(s) for +: 'int' and 'str'"
     ]
    }
   ],
   "source": [
    "ab = 'string1'\n",
    "n  = 12\n",
    "abn = n + ab"
   ]
  },
  {
   "cell_type": "markdown",
   "id": "2703f6ea",
   "metadata": {},
   "source": [
    "## 3.\tCreate a string variable for the word “Data Science” and see if the letter “s” is present in it using membership operators"
   ]
  },
  {
   "cell_type": "code",
   "execution_count": 6,
   "id": "afd4af8a",
   "metadata": {},
   "outputs": [
    {
     "name": "stdout",
     "output_type": "stream",
     "text": [
      "The letter 's' not in  Data Science\n"
     ]
    }
   ],
   "source": [
    "word = \"Data Science\"\n",
    "if 's' in word:\n",
    "    print (\"The letter 's' in \" , word)\n",
    "else:\n",
    "    print (\"The letter 's' not in \" , word)\n"
   ]
  },
  {
   "cell_type": "markdown",
   "id": "594017d3",
   "metadata": {},
   "source": [
    "## 4.\tWrite a function and pass a number list as an argument to the function. And return True if the first and last number of a given list is same. If numbers are different then return False"
   ]
  },
  {
   "cell_type": "code",
   "execution_count": 19,
   "id": "cbbabbfd",
   "metadata": {},
   "outputs": [],
   "source": [
    "#Create a function\n",
    "def function1(a,b):\n",
    "    if a == b:\n",
    "        print (True)\n",
    "    else:\n",
    "        print (False)\n",
    "    return\n"
   ]
  },
  {
   "cell_type": "code",
   "execution_count": 21,
   "id": "27a6e586",
   "metadata": {},
   "outputs": [
    {
     "name": "stdout",
     "output_type": "stream",
     "text": [
      "True\n"
     ]
    }
   ],
   "source": [
    "#Pass arguments and call the function\n",
    "num_list = [1, 10, 100, 300,2, 2,1]\n",
    "function1(num_list[0], num_list[-1])"
   ]
  },
  {
   "cell_type": "markdown",
   "id": "86a7c3d6",
   "metadata": {},
   "source": [
    "## 5.\tIterate the given list of numbers (l1) and print only those numbers which are divisible by 5. (l1 = [10, 20, 33, 46, 55])"
   ]
  },
  {
   "cell_type": "code",
   "execution_count": 23,
   "id": "4d831c07",
   "metadata": {},
   "outputs": [
    {
     "data": {
      "text/plain": [
       "[10, 20, 55]"
      ]
     },
     "execution_count": 23,
     "metadata": {},
     "output_type": "execute_result"
    }
   ],
   "source": [
    "l1 = [10,20,33,46,55];\n",
    "[a for a in l1 if a%5 == 0]"
   ]
  },
  {
   "cell_type": "markdown",
   "id": "906edd5d",
   "metadata": {},
   "source": [
    "## 6.\tWrite a program to create function calculation() such that it can accept two variables and calculate addition and subtraction. Also, it must return both addition and subtraction in a single return call.\n",
    "a.\tHint: Separate return values with a comma"
   ]
  },
  {
   "cell_type": "code",
   "execution_count": 26,
   "id": "0c2783dd",
   "metadata": {},
   "outputs": [],
   "source": [
    "#Create a function\n",
    "def calculation(vary1, vary2):\n",
    "    tot = vary1+vary2;\n",
    "    diff = vary1 - vary2;\n",
    "    return tot,diff"
   ]
  },
  {
   "cell_type": "code",
   "execution_count": 27,
   "id": "2f0268ef",
   "metadata": {},
   "outputs": [
    {
     "data": {
      "text/plain": [
       "(5, 1)"
      ]
     },
     "execution_count": 27,
     "metadata": {},
     "output_type": "execute_result"
    }
   ],
   "source": [
    "calculation (3,2)"
   ]
  },
  {
   "cell_type": "code",
   "execution_count": 28,
   "id": "fe76a4ff",
   "metadata": {},
   "outputs": [
    {
     "data": {
      "text/plain": [
       "(9, -1)"
      ]
     },
     "execution_count": 28,
     "metadata": {},
     "output_type": "execute_result"
    }
   ],
   "source": [
    "calculation (4,5)"
   ]
  },
  {
   "cell_type": "markdown",
   "id": "438dcca8",
   "metadata": {},
   "source": [
    "## 7.\tWrite a program to demonstrate the following Syntax error\n",
    "a.\tSyntaxError: non-default argument follows default argument\n"
   ]
  },
  {
   "cell_type": "code",
   "execution_count": 29,
   "id": "0025bdc5",
   "metadata": {},
   "outputs": [
    {
     "ename": "SyntaxError",
     "evalue": "non-default argument follows default argument (Temp/ipykernel_3328/1273844028.py, line 1)",
     "output_type": "error",
     "traceback": [
      "\u001b[1;36m  File \u001b[1;32m\"C:\\Users\\BALAPI~1\\AppData\\Local\\Temp/ipykernel_3328/1273844028.py\"\u001b[1;36m, line \u001b[1;32m1\u001b[0m\n\u001b[1;33m    def greet (arg2 = 'Good Morning', arg1):\u001b[0m\n\u001b[1;37m                                          ^\u001b[0m\n\u001b[1;31mSyntaxError\u001b[0m\u001b[1;31m:\u001b[0m non-default argument follows default argument\n"
     ]
    }
   ],
   "source": [
    "def greet (arg2 = 'Good Morning', arg1):\n",
    "    print (\"Hello\", arg1, arg2)"
   ]
  },
  {
   "cell_type": "markdown",
   "id": "1c71797c",
   "metadata": {},
   "source": [
    "## 8.\tWhat’s recursion? Explain in your own words and write a program to create a recursive function to calculate the sum of numbers from 0 to 10"
   ]
  },
  {
   "cell_type": "markdown",
   "id": "9b1f68a8",
   "metadata": {},
   "source": [
    "### I can say it as a self-made function. A function which can call by itself so that incase of looping on its own to reach the result. "
   ]
  },
  {
   "cell_type": "code",
   "execution_count": 1,
   "id": "ed7b4eb5",
   "metadata": {
    "scrolled": true
   },
   "outputs": [
    {
     "name": "stdout",
     "output_type": "stream",
     "text": [
      "Sum of numbers from 0 to  10 is  55\n"
     ]
    }
   ],
   "source": [
    "def recursion(x):\n",
    "    if x <= 1:\n",
    "        return x\n",
    "    else:\n",
    "        return x + recursion(x-1)\n",
    "n=10\n",
    "print ('Sum of numbers from 0 to ', n, 'is ', recursion(n) )"
   ]
  },
  {
   "cell_type": "markdown",
   "id": "067e6ed9",
   "metadata": {},
   "source": [
    "### 9.\tUse filter and lambda function to calculate square for below numbers only if they are odd number\n",
    "a.\t[12, 11, 53, 22, 21, 77, 87, 88, 98]\n"
   ]
  },
  {
   "cell_type": "code",
   "execution_count": 3,
   "id": "8c3f933f",
   "metadata": {},
   "outputs": [
    {
     "name": "stdout",
     "output_type": "stream",
     "text": [
      "[12, 11, 53, 22, 21, 77, 87, 88, 98]\n"
     ]
    }
   ],
   "source": [
    "my_list = [12, 11, 53, 22, 21, 77, 87, 88, 98]\n",
    "print(my_list)"
   ]
  },
  {
   "cell_type": "code",
   "execution_count": 4,
   "id": "e0be6541",
   "metadata": {},
   "outputs": [
    {
     "name": "stdout",
     "output_type": "stream",
     "text": [
      "Applying the filter operation [11, 53, 21, 77, 87]\n"
     ]
    }
   ],
   "source": [
    "fil = list(filter(lambda x : x % 2 != 0, my_list))\n",
    "print ('Applying the filter operation', fil)"
   ]
  },
  {
   "cell_type": "markdown",
   "id": "a06b5c1d",
   "metadata": {},
   "source": [
    "### Write a function (not a lambda function) and use it to demonstrate an example for map function (any logical function of your choice)"
   ]
  },
  {
   "cell_type": "code",
   "execution_count": 5,
   "id": "85078883",
   "metadata": {},
   "outputs": [
    {
     "name": "stdout",
     "output_type": "stream",
     "text": [
      "['a', 'b', 'c', 'd', 'map', 'list', 'ten']\n"
     ]
    }
   ],
   "source": [
    "fil11 = list (map(lambda x: x.lower(), ['a', 'B', 'c', 'D', 'MAP', 'LIST', 'TEN']))\n",
    "print(fil11)"
   ]
  },
  {
   "cell_type": "code",
   "execution_count": null,
   "id": "9fc550e4",
   "metadata": {},
   "outputs": [],
   "source": []
  }
 ],
 "metadata": {
  "kernelspec": {
   "display_name": "Python 3 (ipykernel)",
   "language": "python",
   "name": "python3"
  },
  "language_info": {
   "codemirror_mode": {
    "name": "ipython",
    "version": 3
   },
   "file_extension": ".py",
   "mimetype": "text/x-python",
   "name": "python",
   "nbconvert_exporter": "python",
   "pygments_lexer": "ipython3",
   "version": "3.9.7"
  }
 },
 "nbformat": 4,
 "nbformat_minor": 5
}
